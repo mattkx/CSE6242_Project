{
 "cells": [
  {
   "cell_type": "code",
   "execution_count": 1,
   "metadata": {},
   "outputs": [],
   "source": [
    "import pyspark\n",
    "from pyspark.sql import SQLContext\n",
    "from pyspark.sql import *\n",
    "from pyspark.sql.functions import *\n",
    "from pyspark.sql.types import StringType, IntegerType, FloatType, StructType, StructField, TimestampType, DateType, ArrayType"
   ]
  },
  {
   "cell_type": "code",
   "execution_count": 2,
   "metadata": {},
   "outputs": [
    {
     "data": {
      "text/html": [
       "\n",
       "        <div>\n",
       "            <p><b>SparkContext</b></p>\n",
       "\n",
       "            <p><a href=\"http://ggallagher6-m.us-east4-b.c.cse6242-329416.internal:38911\">Spark UI</a></p>\n",
       "\n",
       "            <dl>\n",
       "              <dt>Version</dt>\n",
       "                <dd><code>v2.4.8</code></dd>\n",
       "              <dt>Master</dt>\n",
       "                <dd><code>yarn</code></dd>\n",
       "              <dt>AppName</dt>\n",
       "                <dd><code>PySparkShell</code></dd>\n",
       "            </dl>\n",
       "        </div>\n",
       "        "
      ],
      "text/plain": [
       "<SparkContext master=yarn appName=PySparkShell>"
      ]
     },
     "execution_count": 2,
     "metadata": {},
     "output_type": "execute_result"
    }
   ],
   "source": [
    "sc"
   ]
  },
  {
   "cell_type": "code",
   "execution_count": 3,
   "metadata": {},
   "outputs": [],
   "source": [
    "sqlContext = SQLContext(sc)"
   ]
  },
  {
   "cell_type": "code",
   "execution_count": 4,
   "metadata": {},
   "outputs": [],
   "source": [
    "\n",
    "def loadData(loc):\n",
    "    df = sqlContext.read.format(\"csv\") \\\n",
    "    .option(\"header\", \"true\") \\\n",
    "    .option(\"timestampFormat\", \"MM/dd/yyyy HH:mm:SS\") \\\n",
    "    .option(\"inferSchema\", \"true\") \\\n",
    "    .load(loc)\n",
    "    \n",
    "    return df"
   ]
  },
  {
   "cell_type": "code",
   "execution_count": 6,
   "metadata": {},
   "outputs": [],
   "source": [
    "bucket = 'gs://project_ggallagher6/' #201410-citibike-tripdata.csv'\n",
    "\n",
    "def writeOutput(df, loc):\n",
    "    df.repartition(1).write.option(\"header\", \"true\").csv(loc)"
   ]
  },
  {
   "cell_type": "code",
   "execution_count": 7,
   "metadata": {},
   "outputs": [],
   "source": [
    "df = loadData(bucket+'cleaned/stations.csv')"
   ]
  },
  {
   "cell_type": "code",
   "execution_count": 15,
   "metadata": {},
   "outputs": [],
   "source": [
    "directionLookup = {'E ': 'East ', 'W ': 'West ', 'S ': 'South ', 'N ': 'North '}\n",
    "streetLookup = {' Pl ': ' Place ', ' St ': ' Street ', ' Ln ': ' Lane '}\n",
    "#remember to scrape off last letter if space\n",
    "#be careful of lettered avenues - handle manually\n",
    "#bob = df.withColumn('test', split(df['station_name'], '& ').getItem(0)) \\\n",
    "#.withColumn('test2', split(df['station_name'], '& ').getItem(1))\n",
    "#bob.show()\n",
    "#tim = bob.withColumn('test3', when(df['test']))\n",
    "\n",
    "out = df.withColumn('street_1', rtrim(split(df['station_name'], '& ').getItem(0))) \\\n",
    ".withColumn('street_2', split(df['station_name'], '& ').getItem(1))\n",
    "out = out.select('station_id', 'street_1', 'street_2', 'station_latitude', 'station_longitude')"
   ]
  },
  {
   "cell_type": "code",
   "execution_count": 17,
   "metadata": {},
   "outputs": [
    {
     "name": "stdout",
     "output_type": "stream",
     "text": [
      "+----------+--------+-----------+----------------+-----------------+\n",
      "|station_id|street_1|   street_2|station_latitude|station_longitude|\n",
      "+----------+--------+-----------+----------------+-----------------+\n",
      "|      2001|   7 Ave|Farragut St|     40.69892054|     -73.97332996|\n",
      "|       297| E 15 St|      3 Ave|       40.734232|       -73.986923|\n",
      "|       476| E 31 St|      3 Ave|     40.74394314|     -73.97966069|\n",
      "|       388| W 26 St|     10 Ave|    40.749717753|    -74.002950346|\n",
      "+----------+--------+-----------+----------------+-----------------+\n",
      "only showing top 4 rows\n",
      "\n"
     ]
    }
   ],
   "source": [
    "out.show(4)\n",
    "writeOutput(out, bucket+'test/')"
   ]
  }
 ],
 "metadata": {
  "kernelspec": {
   "display_name": "PySpark",
   "language": "python",
   "name": "pyspark"
  },
  "language_info": {
   "codemirror_mode": {
    "name": "ipython",
    "version": 3
   },
   "file_extension": ".py",
   "mimetype": "text/x-python",
   "name": "python",
   "nbconvert_exporter": "python",
   "pygments_lexer": "ipython3",
   "version": "3.7.4"
  }
 },
 "nbformat": 4,
 "nbformat_minor": 2
}